{
 "cells": [
  {
   "cell_type": "code",
   "execution_count": 1,
   "id": "6ea0d602",
   "metadata": {},
   "outputs": [
    {
     "name": "stdout",
     "output_type": "stream",
     "text": [
      "Requirement already satisfied: pandas-profiling[notebook] in /home/pavanmv/miniconda3/envs/mlflow-70d6bcff27d093526c6b8a843914d30a175ff963/lib/python3.8/site-packages (3.4.0)\n",
      "Requirement already satisfied: missingno<0.6,>=0.4.2 in /home/pavanmv/miniconda3/envs/mlflow-70d6bcff27d093526c6b8a843914d30a175ff963/lib/python3.8/site-packages (from pandas-profiling[notebook]) (0.4.2)\n",
      "Requirement already satisfied: requests<2.29,>=2.24.0 in /home/pavanmv/miniconda3/envs/mlflow-70d6bcff27d093526c6b8a843914d30a175ff963/lib/python3.8/site-packages (from pandas-profiling[notebook]) (2.28.1)\n",
      "Requirement already satisfied: tqdm<4.65,>=4.48.2 in /home/pavanmv/miniconda3/envs/mlflow-70d6bcff27d093526c6b8a843914d30a175ff963/lib/python3.8/site-packages (from pandas-profiling[notebook]) (4.64.1)\n",
      "Requirement already satisfied: pandas!=1.4.0,<1.6,>1.1 in /home/pavanmv/miniconda3/envs/mlflow-70d6bcff27d093526c6b8a843914d30a175ff963/lib/python3.8/site-packages (from pandas-profiling[notebook]) (1.5.1)\n",
      "Requirement already satisfied: pydantic<1.11,>=1.8.1 in /home/pavanmv/miniconda3/envs/mlflow-70d6bcff27d093526c6b8a843914d30a175ff963/lib/python3.8/site-packages (from pandas-profiling[notebook]) (1.10.2)\n",
      "Requirement already satisfied: matplotlib<3.6,>=3.2 in /home/pavanmv/miniconda3/envs/mlflow-70d6bcff27d093526c6b8a843914d30a175ff963/lib/python3.8/site-packages (from pandas-profiling[notebook]) (3.5.3)\n",
      "Requirement already satisfied: PyYAML<6.1,>=5.0.0 in /home/pavanmv/miniconda3/envs/mlflow-70d6bcff27d093526c6b8a843914d30a175ff963/lib/python3.8/site-packages (from pandas-profiling[notebook]) (6.0)\n",
      "Requirement already satisfied: jinja2<3.2,>=2.11.1 in /home/pavanmv/miniconda3/envs/mlflow-70d6bcff27d093526c6b8a843914d30a175ff963/lib/python3.8/site-packages (from pandas-profiling[notebook]) (3.1.2)\n",
      "Requirement already satisfied: visions[type_image_path]==0.7.5 in /home/pavanmv/miniconda3/envs/mlflow-70d6bcff27d093526c6b8a843914d30a175ff963/lib/python3.8/site-packages (from pandas-profiling[notebook]) (0.7.5)\n",
      "Requirement already satisfied: phik<0.13,>=0.11.1 in /home/pavanmv/miniconda3/envs/mlflow-70d6bcff27d093526c6b8a843914d30a175ff963/lib/python3.8/site-packages (from pandas-profiling[notebook]) (0.12.2)\n",
      "Requirement already satisfied: statsmodels<0.14,>=0.13.2 in /home/pavanmv/miniconda3/envs/mlflow-70d6bcff27d093526c6b8a843914d30a175ff963/lib/python3.8/site-packages (from pandas-profiling[notebook]) (0.13.2)\n",
      "Requirement already satisfied: seaborn<0.13,>=0.10.1 in /home/pavanmv/miniconda3/envs/mlflow-70d6bcff27d093526c6b8a843914d30a175ff963/lib/python3.8/site-packages (from pandas-profiling[notebook]) (0.12.1)\n",
      "Requirement already satisfied: numpy<1.24,>=1.16.0 in /home/pavanmv/miniconda3/envs/mlflow-70d6bcff27d093526c6b8a843914d30a175ff963/lib/python3.8/site-packages (from pandas-profiling[notebook]) (1.23.4)\n",
      "Requirement already satisfied: multimethod<1.10,>=1.4 in /home/pavanmv/miniconda3/envs/mlflow-70d6bcff27d093526c6b8a843914d30a175ff963/lib/python3.8/site-packages (from pandas-profiling[notebook]) (1.4)\n",
      "Requirement already satisfied: scipy<1.10,>=1.4.1 in /home/pavanmv/miniconda3/envs/mlflow-70d6bcff27d093526c6b8a843914d30a175ff963/lib/python3.8/site-packages (from pandas-profiling[notebook]) (1.9.2)\n",
      "Requirement already satisfied: htmlmin==0.1.12 in /home/pavanmv/miniconda3/envs/mlflow-70d6bcff27d093526c6b8a843914d30a175ff963/lib/python3.8/site-packages (from pandas-profiling[notebook]) (0.1.12)\n",
      "Requirement already satisfied: jupyter-core>=4.6.3 in /home/pavanmv/miniconda3/envs/mlflow-70d6bcff27d093526c6b8a843914d30a175ff963/lib/python3.8/site-packages (from pandas-profiling[notebook]) (4.11.1)\n",
      "Requirement already satisfied: ipywidgets>=7.5.1 in /home/pavanmv/miniconda3/envs/mlflow-70d6bcff27d093526c6b8a843914d30a175ff963/lib/python3.8/site-packages (from pandas-profiling[notebook]) (8.0.2)\n",
      "Requirement already satisfied: jupyter-client>=5.3.4 in /home/pavanmv/miniconda3/envs/mlflow-70d6bcff27d093526c6b8a843914d30a175ff963/lib/python3.8/site-packages (from pandas-profiling[notebook]) (7.4.3)\n",
      "Requirement already satisfied: tangled-up-in-unicode>=0.0.4 in /home/pavanmv/miniconda3/envs/mlflow-70d6bcff27d093526c6b8a843914d30a175ff963/lib/python3.8/site-packages (from visions[type_image_path]==0.7.5->pandas-profiling[notebook]) (0.2.0)\n",
      "Requirement already satisfied: networkx>=2.4 in /home/pavanmv/miniconda3/envs/mlflow-70d6bcff27d093526c6b8a843914d30a175ff963/lib/python3.8/site-packages (from visions[type_image_path]==0.7.5->pandas-profiling[notebook]) (2.8.7)\n",
      "Requirement already satisfied: attrs>=19.3.0 in /home/pavanmv/miniconda3/envs/mlflow-70d6bcff27d093526c6b8a843914d30a175ff963/lib/python3.8/site-packages (from visions[type_image_path]==0.7.5->pandas-profiling[notebook]) (22.1.0)\n",
      "Requirement already satisfied: imagehash in /home/pavanmv/miniconda3/envs/mlflow-70d6bcff27d093526c6b8a843914d30a175ff963/lib/python3.8/site-packages (from visions[type_image_path]==0.7.5->pandas-profiling[notebook]) (4.3.1)\n",
      "Requirement already satisfied: Pillow in /home/pavanmv/miniconda3/envs/mlflow-70d6bcff27d093526c6b8a843914d30a175ff963/lib/python3.8/site-packages (from visions[type_image_path]==0.7.5->pandas-profiling[notebook]) (9.2.0)\n",
      "Requirement already satisfied: jupyterlab-widgets~=3.0 in /home/pavanmv/miniconda3/envs/mlflow-70d6bcff27d093526c6b8a843914d30a175ff963/lib/python3.8/site-packages (from ipywidgets>=7.5.1->pandas-profiling[notebook]) (3.0.3)\n",
      "Requirement already satisfied: widgetsnbextension~=4.0 in /home/pavanmv/miniconda3/envs/mlflow-70d6bcff27d093526c6b8a843914d30a175ff963/lib/python3.8/site-packages (from ipywidgets>=7.5.1->pandas-profiling[notebook]) (4.0.3)\n",
      "Requirement already satisfied: ipykernel>=4.5.1 in /home/pavanmv/miniconda3/envs/mlflow-70d6bcff27d093526c6b8a843914d30a175ff963/lib/python3.8/site-packages (from ipywidgets>=7.5.1->pandas-profiling[notebook]) (6.16.1)\n",
      "Requirement already satisfied: ipython>=6.1.0 in /home/pavanmv/miniconda3/envs/mlflow-70d6bcff27d093526c6b8a843914d30a175ff963/lib/python3.8/site-packages (from ipywidgets>=7.5.1->pandas-profiling[notebook]) (8.5.0)\n",
      "Requirement already satisfied: traitlets>=4.3.1 in /home/pavanmv/miniconda3/envs/mlflow-70d6bcff27d093526c6b8a843914d30a175ff963/lib/python3.8/site-packages (from ipywidgets>=7.5.1->pandas-profiling[notebook]) (5.5.0)\n",
      "Requirement already satisfied: MarkupSafe>=2.0 in /home/pavanmv/miniconda3/envs/mlflow-70d6bcff27d093526c6b8a843914d30a175ff963/lib/python3.8/site-packages (from jinja2<3.2,>=2.11.1->pandas-profiling[notebook]) (2.1.1)\n",
      "Requirement already satisfied: python-dateutil>=2.8.2 in /home/pavanmv/miniconda3/envs/mlflow-70d6bcff27d093526c6b8a843914d30a175ff963/lib/python3.8/site-packages (from jupyter-client>=5.3.4->pandas-profiling[notebook]) (2.8.2)\n",
      "Requirement already satisfied: entrypoints in /home/pavanmv/miniconda3/envs/mlflow-70d6bcff27d093526c6b8a843914d30a175ff963/lib/python3.8/site-packages (from jupyter-client>=5.3.4->pandas-profiling[notebook]) (0.4)\n",
      "Requirement already satisfied: pyzmq>=23.0 in /home/pavanmv/miniconda3/envs/mlflow-70d6bcff27d093526c6b8a843914d30a175ff963/lib/python3.8/site-packages (from jupyter-client>=5.3.4->pandas-profiling[notebook]) (24.0.1)\n",
      "Requirement already satisfied: nest-asyncio>=1.5.4 in /home/pavanmv/miniconda3/envs/mlflow-70d6bcff27d093526c6b8a843914d30a175ff963/lib/python3.8/site-packages (from jupyter-client>=5.3.4->pandas-profiling[notebook]) (1.5.6)\n",
      "Requirement already satisfied: tornado>=6.2 in /home/pavanmv/miniconda3/envs/mlflow-70d6bcff27d093526c6b8a843914d30a175ff963/lib/python3.8/site-packages (from jupyter-client>=5.3.4->pandas-profiling[notebook]) (6.2)\n",
      "Requirement already satisfied: packaging>=20.0 in /home/pavanmv/miniconda3/envs/mlflow-70d6bcff27d093526c6b8a843914d30a175ff963/lib/python3.8/site-packages (from matplotlib<3.6,>=3.2->pandas-profiling[notebook]) (21.3)\n",
      "Requirement already satisfied: fonttools>=4.22.0 in /home/pavanmv/miniconda3/envs/mlflow-70d6bcff27d093526c6b8a843914d30a175ff963/lib/python3.8/site-packages (from matplotlib<3.6,>=3.2->pandas-profiling[notebook]) (4.37.4)\n",
      "Requirement already satisfied: kiwisolver>=1.0.1 in /home/pavanmv/miniconda3/envs/mlflow-70d6bcff27d093526c6b8a843914d30a175ff963/lib/python3.8/site-packages (from matplotlib<3.6,>=3.2->pandas-profiling[notebook]) (1.4.4)\n",
      "Requirement already satisfied: cycler>=0.10 in /home/pavanmv/miniconda3/envs/mlflow-70d6bcff27d093526c6b8a843914d30a175ff963/lib/python3.8/site-packages (from matplotlib<3.6,>=3.2->pandas-profiling[notebook]) (0.11.0)\n",
      "Requirement already satisfied: pyparsing>=2.2.1 in /home/pavanmv/miniconda3/envs/mlflow-70d6bcff27d093526c6b8a843914d30a175ff963/lib/python3.8/site-packages (from matplotlib<3.6,>=3.2->pandas-profiling[notebook]) (3.0.9)\n",
      "Requirement already satisfied: pytz>=2020.1 in /home/pavanmv/miniconda3/envs/mlflow-70d6bcff27d093526c6b8a843914d30a175ff963/lib/python3.8/site-packages (from pandas!=1.4.0,<1.6,>1.1->pandas-profiling[notebook]) (2022.5)\n"
     ]
    },
    {
     "name": "stdout",
     "output_type": "stream",
     "text": [
      "Requirement already satisfied: joblib>=0.14.1 in /home/pavanmv/miniconda3/envs/mlflow-70d6bcff27d093526c6b8a843914d30a175ff963/lib/python3.8/site-packages (from phik<0.13,>=0.11.1->pandas-profiling[notebook]) (1.1.0)\n",
      "Requirement already satisfied: typing-extensions>=4.1.0 in /home/pavanmv/miniconda3/envs/mlflow-70d6bcff27d093526c6b8a843914d30a175ff963/lib/python3.8/site-packages (from pydantic<1.11,>=1.8.1->pandas-profiling[notebook]) (4.4.0)\n",
      "Requirement already satisfied: idna<4,>=2.5 in /home/pavanmv/miniconda3/envs/mlflow-70d6bcff27d093526c6b8a843914d30a175ff963/lib/python3.8/site-packages (from requests<2.29,>=2.24.0->pandas-profiling[notebook]) (3.4)\n",
      "Requirement already satisfied: charset-normalizer<3,>=2 in /home/pavanmv/miniconda3/envs/mlflow-70d6bcff27d093526c6b8a843914d30a175ff963/lib/python3.8/site-packages (from requests<2.29,>=2.24.0->pandas-profiling[notebook]) (2.1.1)\n",
      "Requirement already satisfied: urllib3<1.27,>=1.21.1 in /home/pavanmv/miniconda3/envs/mlflow-70d6bcff27d093526c6b8a843914d30a175ff963/lib/python3.8/site-packages (from requests<2.29,>=2.24.0->pandas-profiling[notebook]) (1.26.11)\n",
      "Requirement already satisfied: certifi>=2017.4.17 in /home/pavanmv/miniconda3/envs/mlflow-70d6bcff27d093526c6b8a843914d30a175ff963/lib/python3.8/site-packages (from requests<2.29,>=2.24.0->pandas-profiling[notebook]) (2022.9.24)\n",
      "Requirement already satisfied: patsy>=0.5.2 in /home/pavanmv/miniconda3/envs/mlflow-70d6bcff27d093526c6b8a843914d30a175ff963/lib/python3.8/site-packages (from statsmodels<0.14,>=0.13.2->pandas-profiling[notebook]) (0.5.3)\n",
      "Requirement already satisfied: psutil in /home/pavanmv/miniconda3/envs/mlflow-70d6bcff27d093526c6b8a843914d30a175ff963/lib/python3.8/site-packages (from ipykernel>=4.5.1->ipywidgets>=7.5.1->pandas-profiling[notebook]) (5.9.3)\n",
      "Requirement already satisfied: matplotlib-inline>=0.1 in /home/pavanmv/miniconda3/envs/mlflow-70d6bcff27d093526c6b8a843914d30a175ff963/lib/python3.8/site-packages (from ipykernel>=4.5.1->ipywidgets>=7.5.1->pandas-profiling[notebook]) (0.1.6)\n",
      "Requirement already satisfied: debugpy>=1.0 in /home/pavanmv/miniconda3/envs/mlflow-70d6bcff27d093526c6b8a843914d30a175ff963/lib/python3.8/site-packages (from ipykernel>=4.5.1->ipywidgets>=7.5.1->pandas-profiling[notebook]) (1.6.3)\n",
      "Requirement already satisfied: prompt-toolkit<3.1.0,>3.0.1 in /home/pavanmv/miniconda3/envs/mlflow-70d6bcff27d093526c6b8a843914d30a175ff963/lib/python3.8/site-packages (from ipython>=6.1.0->ipywidgets>=7.5.1->pandas-profiling[notebook]) (3.0.31)\n",
      "Requirement already satisfied: pexpect>4.3 in /home/pavanmv/miniconda3/envs/mlflow-70d6bcff27d093526c6b8a843914d30a175ff963/lib/python3.8/site-packages (from ipython>=6.1.0->ipywidgets>=7.5.1->pandas-profiling[notebook]) (4.8.0)\n",
      "Requirement already satisfied: jedi>=0.16 in /home/pavanmv/miniconda3/envs/mlflow-70d6bcff27d093526c6b8a843914d30a175ff963/lib/python3.8/site-packages (from ipython>=6.1.0->ipywidgets>=7.5.1->pandas-profiling[notebook]) (0.18.1)\n",
      "Requirement already satisfied: decorator in /home/pavanmv/miniconda3/envs/mlflow-70d6bcff27d093526c6b8a843914d30a175ff963/lib/python3.8/site-packages (from ipython>=6.1.0->ipywidgets>=7.5.1->pandas-profiling[notebook]) (5.1.1)\n",
      "Requirement already satisfied: backcall in /home/pavanmv/miniconda3/envs/mlflow-70d6bcff27d093526c6b8a843914d30a175ff963/lib/python3.8/site-packages (from ipython>=6.1.0->ipywidgets>=7.5.1->pandas-profiling[notebook]) (0.2.0)\n",
      "Requirement already satisfied: stack-data in /home/pavanmv/miniconda3/envs/mlflow-70d6bcff27d093526c6b8a843914d30a175ff963/lib/python3.8/site-packages (from ipython>=6.1.0->ipywidgets>=7.5.1->pandas-profiling[notebook]) (0.5.1)\n",
      "Requirement already satisfied: pickleshare in /home/pavanmv/miniconda3/envs/mlflow-70d6bcff27d093526c6b8a843914d30a175ff963/lib/python3.8/site-packages (from ipython>=6.1.0->ipywidgets>=7.5.1->pandas-profiling[notebook]) (0.7.5)\n",
      "Requirement already satisfied: pygments>=2.4.0 in /home/pavanmv/miniconda3/envs/mlflow-70d6bcff27d093526c6b8a843914d30a175ff963/lib/python3.8/site-packages (from ipython>=6.1.0->ipywidgets>=7.5.1->pandas-profiling[notebook]) (2.13.0)\n",
      "Requirement already satisfied: six in /home/pavanmv/miniconda3/envs/mlflow-70d6bcff27d093526c6b8a843914d30a175ff963/lib/python3.8/site-packages (from patsy>=0.5.2->statsmodels<0.14,>=0.13.2->pandas-profiling[notebook]) (1.16.0)\n",
      "Requirement already satisfied: PyWavelets in /home/pavanmv/miniconda3/envs/mlflow-70d6bcff27d093526c6b8a843914d30a175ff963/lib/python3.8/site-packages (from imagehash->visions[type_image_path]==0.7.5->pandas-profiling[notebook]) (1.3.0)\n",
      "Requirement already satisfied: parso<0.9.0,>=0.8.0 in /home/pavanmv/miniconda3/envs/mlflow-70d6bcff27d093526c6b8a843914d30a175ff963/lib/python3.8/site-packages (from jedi>=0.16->ipython>=6.1.0->ipywidgets>=7.5.1->pandas-profiling[notebook]) (0.8.3)\n",
      "Requirement already satisfied: ptyprocess>=0.5 in /home/pavanmv/miniconda3/envs/mlflow-70d6bcff27d093526c6b8a843914d30a175ff963/lib/python3.8/site-packages (from pexpect>4.3->ipython>=6.1.0->ipywidgets>=7.5.1->pandas-profiling[notebook]) (0.7.0)\n",
      "Requirement already satisfied: wcwidth in /home/pavanmv/miniconda3/envs/mlflow-70d6bcff27d093526c6b8a843914d30a175ff963/lib/python3.8/site-packages (from prompt-toolkit<3.1.0,>3.0.1->ipython>=6.1.0->ipywidgets>=7.5.1->pandas-profiling[notebook]) (0.2.5)\n",
      "Requirement already satisfied: asttokens in /home/pavanmv/miniconda3/envs/mlflow-70d6bcff27d093526c6b8a843914d30a175ff963/lib/python3.8/site-packages (from stack-data->ipython>=6.1.0->ipywidgets>=7.5.1->pandas-profiling[notebook]) (2.0.8)\n",
      "Requirement already satisfied: pure-eval in /home/pavanmv/miniconda3/envs/mlflow-70d6bcff27d093526c6b8a843914d30a175ff963/lib/python3.8/site-packages (from stack-data->ipython>=6.1.0->ipywidgets>=7.5.1->pandas-profiling[notebook]) (0.2.2)\n",
      "Requirement already satisfied: executing in /home/pavanmv/miniconda3/envs/mlflow-70d6bcff27d093526c6b8a843914d30a175ff963/lib/python3.8/site-packages (from stack-data->ipython>=6.1.0->ipywidgets>=7.5.1->pandas-profiling[notebook]) (1.1.1)\n"
     ]
    }
   ],
   "source": [
    "!pip install -U pandas-profiling[notebook]"
   ]
  },
  {
   "cell_type": "code",
   "execution_count": 2,
   "id": "e9e3c591",
   "metadata": {},
   "outputs": [],
   "source": [
    "import pandas as pd\n",
    "import pandas_profiling\n",
    "import seaborn\n",
    "import wandb"
   ]
  },
  {
   "cell_type": "code",
   "execution_count": 3,
   "id": "09bb3b96",
   "metadata": {},
   "outputs": [],
   "source": [
    "import os\n",
    "\n",
    "os.environ[\"WANDB_NOTEBOOK_NAME\"] = \"EDA.ipynb\""
   ]
  },
  {
   "cell_type": "code",
   "execution_count": 6,
   "id": "b788a23b",
   "metadata": {},
   "outputs": [
    {
     "name": "stderr",
     "output_type": "stream",
     "text": [
      "\u001b[34m\u001b[1mwandb\u001b[0m: Currently logged in as: \u001b[33mmvpavan\u001b[0m. Use \u001b[1m`wandb login --relogin`\u001b[0m to force relogin\n"
     ]
    },
    {
     "data": {
      "text/html": [
       "Tracking run with wandb version 0.13.4"
      ],
      "text/plain": [
       "<IPython.core.display.HTML object>"
      ]
     },
     "metadata": {},
     "output_type": "display_data"
    },
    {
     "data": {
      "text/html": [
       "Run data is saved locally in <code>/data/MLOps/cd0581-building-a-reproducible-model-workflow-exercises/lesson-2-data-exploration-and-preparation/exercises/exercise_4/starter/wandb/run-20221021_111250-2vvrwawh</code>"
      ],
      "text/plain": [
       "<IPython.core.display.HTML object>"
      ]
     },
     "metadata": {},
     "output_type": "display_data"
    },
    {
     "data": {
      "text/html": [
       "Syncing run <strong><a href=\"http://localhost:8080/mvpavan/exercise_4/runs/2vvrwawh\" target=\"_blank\">fiery-sunset-4</a></strong> to <a href=\"http://localhost:8080/mvpavan/exercise_4\" target=\"_blank\">Weights & Biases</a> (<a href=\"https://wandb.me/run\" target=\"_blank\">docs</a>)<br/>"
      ],
      "text/plain": [
       "<IPython.core.display.HTML object>"
      ]
     },
     "metadata": {},
     "output_type": "display_data"
    }
   ],
   "source": [
    "run = wandb.init(\n",
    "  project=\"exercise_4\",\n",
    "  group=\"EDA\",\n",
    "    job_type = \"Data Analysis\",\n",
    "  save_code=True\n",
    ")"
   ]
  },
  {
   "cell_type": "code",
   "execution_count": 7,
   "id": "6d75b33f",
   "metadata": {},
   "outputs": [
    {
     "data": {
      "text/html": [
       "<div>\n",
       "<style scoped>\n",
       "    .dataframe tbody tr th:only-of-type {\n",
       "        vertical-align: middle;\n",
       "    }\n",
       "\n",
       "    .dataframe tbody tr th {\n",
       "        vertical-align: top;\n",
       "    }\n",
       "\n",
       "    .dataframe thead th {\n",
       "        text-align: right;\n",
       "    }\n",
       "</style>\n",
       "<table border=\"1\" class=\"dataframe\">\n",
       "  <thead>\n",
       "    <tr style=\"text-align: right;\">\n",
       "      <th></th>\n",
       "      <th>danceability</th>\n",
       "      <th>energy</th>\n",
       "      <th>key</th>\n",
       "      <th>loudness</th>\n",
       "      <th>mode</th>\n",
       "      <th>speechiness</th>\n",
       "      <th>acousticness</th>\n",
       "      <th>instrumentalness</th>\n",
       "      <th>liveness</th>\n",
       "      <th>valence</th>\n",
       "      <th>tempo</th>\n",
       "      <th>type</th>\n",
       "      <th>duration_ms</th>\n",
       "      <th>time_signature</th>\n",
       "      <th>genre</th>\n",
       "      <th>song_name</th>\n",
       "      <th>title</th>\n",
       "    </tr>\n",
       "  </thead>\n",
       "  <tbody>\n",
       "    <tr>\n",
       "      <th>0</th>\n",
       "      <td>0.831</td>\n",
       "      <td>0.814</td>\n",
       "      <td>2</td>\n",
       "      <td>-7.364</td>\n",
       "      <td>1</td>\n",
       "      <td>0.4200</td>\n",
       "      <td>0.0598</td>\n",
       "      <td>0.013400</td>\n",
       "      <td>0.0556</td>\n",
       "      <td>0.3890</td>\n",
       "      <td>156.985</td>\n",
       "      <td>audio_features</td>\n",
       "      <td>124539</td>\n",
       "      <td>4</td>\n",
       "      <td>Dark Trap</td>\n",
       "      <td>Mercury: Retrograde</td>\n",
       "      <td>None</td>\n",
       "    </tr>\n",
       "    <tr>\n",
       "      <th>1</th>\n",
       "      <td>0.719</td>\n",
       "      <td>0.493</td>\n",
       "      <td>8</td>\n",
       "      <td>-7.230</td>\n",
       "      <td>1</td>\n",
       "      <td>0.0794</td>\n",
       "      <td>0.4010</td>\n",
       "      <td>0.000000</td>\n",
       "      <td>0.1180</td>\n",
       "      <td>0.1240</td>\n",
       "      <td>115.080</td>\n",
       "      <td>audio_features</td>\n",
       "      <td>224427</td>\n",
       "      <td>4</td>\n",
       "      <td>Dark Trap</td>\n",
       "      <td>Pathology</td>\n",
       "      <td>None</td>\n",
       "    </tr>\n",
       "    <tr>\n",
       "      <th>2</th>\n",
       "      <td>0.850</td>\n",
       "      <td>0.893</td>\n",
       "      <td>5</td>\n",
       "      <td>NaN</td>\n",
       "      <td>1</td>\n",
       "      <td>0.0623</td>\n",
       "      <td>0.0138</td>\n",
       "      <td>0.000004</td>\n",
       "      <td>0.3720</td>\n",
       "      <td>0.0391</td>\n",
       "      <td>218.050</td>\n",
       "      <td>audio_features</td>\n",
       "      <td>98821</td>\n",
       "      <td>4</td>\n",
       "      <td>Dark Trap</td>\n",
       "      <td>Symbiote</td>\n",
       "      <td>None</td>\n",
       "    </tr>\n",
       "    <tr>\n",
       "      <th>3</th>\n",
       "      <td>0.476</td>\n",
       "      <td>0.781</td>\n",
       "      <td>0</td>\n",
       "      <td>-4.710</td>\n",
       "      <td>1</td>\n",
       "      <td>0.1030</td>\n",
       "      <td>0.0237</td>\n",
       "      <td>0.000000</td>\n",
       "      <td>0.1140</td>\n",
       "      <td>0.1750</td>\n",
       "      <td>186.948</td>\n",
       "      <td>audio_features</td>\n",
       "      <td>123661</td>\n",
       "      <td>3</td>\n",
       "      <td>Dark Trap</td>\n",
       "      <td>ProductOfDrugs (Prod. The Virus and Antidote)</td>\n",
       "      <td>None</td>\n",
       "    </tr>\n",
       "    <tr>\n",
       "      <th>4</th>\n",
       "      <td>0.798</td>\n",
       "      <td>0.624</td>\n",
       "      <td>2</td>\n",
       "      <td>-7.668</td>\n",
       "      <td>1</td>\n",
       "      <td>0.2930</td>\n",
       "      <td>0.2170</td>\n",
       "      <td>0.000000</td>\n",
       "      <td>0.1660</td>\n",
       "      <td>0.5910</td>\n",
       "      <td>147.988</td>\n",
       "      <td>audio_features</td>\n",
       "      <td>123298</td>\n",
       "      <td>4</td>\n",
       "      <td>Dark Trap</td>\n",
       "      <td>Venom</td>\n",
       "      <td>None</td>\n",
       "    </tr>\n",
       "  </tbody>\n",
       "</table>\n",
       "</div>"
      ],
      "text/plain": [
       "   danceability  energy  key  loudness  mode  speechiness  acousticness  \\\n",
       "0         0.831   0.814    2    -7.364     1       0.4200        0.0598   \n",
       "1         0.719   0.493    8    -7.230     1       0.0794        0.4010   \n",
       "2         0.850   0.893    5       NaN     1       0.0623        0.0138   \n",
       "3         0.476   0.781    0    -4.710     1       0.1030        0.0237   \n",
       "4         0.798   0.624    2    -7.668     1       0.2930        0.2170   \n",
       "\n",
       "   instrumentalness  liveness  valence    tempo            type  duration_ms  \\\n",
       "0          0.013400    0.0556   0.3890  156.985  audio_features       124539   \n",
       "1          0.000000    0.1180   0.1240  115.080  audio_features       224427   \n",
       "2          0.000004    0.3720   0.0391  218.050  audio_features        98821   \n",
       "3          0.000000    0.1140   0.1750  186.948  audio_features       123661   \n",
       "4          0.000000    0.1660   0.5910  147.988  audio_features       123298   \n",
       "\n",
       "   time_signature      genre                                      song_name  \\\n",
       "0               4  Dark Trap                            Mercury: Retrograde   \n",
       "1               4  Dark Trap                                      Pathology   \n",
       "2               4  Dark Trap                                       Symbiote   \n",
       "3               3  Dark Trap  ProductOfDrugs (Prod. The Virus and Antidote)   \n",
       "4               4  Dark Trap                                          Venom   \n",
       "\n",
       "  title  \n",
       "0  None  \n",
       "1  None  \n",
       "2  None  \n",
       "3  None  \n",
       "4  None  "
      ]
     },
     "execution_count": 7,
     "metadata": {},
     "output_type": "execute_result"
    }
   ],
   "source": [
    "artifact = run.use_artifact(\"exercise_4/genres_mod.parquet:latest\")\n",
    "df = pd.read_parquet(artifact.file())\n",
    "df.head()"
   ]
  },
  {
   "cell_type": "code",
   "execution_count": 8,
   "id": "273a7771",
   "metadata": {},
   "outputs": [],
   "source": [
    "profile = pandas_profiling.ProfileReport(df, title=\"Pandas Profiling Report\", explorative=True)"
   ]
  },
  {
   "cell_type": "code",
   "execution_count": 9,
   "id": "4aa77737",
   "metadata": {},
   "outputs": [
    {
     "data": {
      "application/vnd.jupyter.widget-view+json": {
       "model_id": "80f45d38e7e04bb7abf0b46a9e059b22",
       "version_major": 2,
       "version_minor": 0
      },
      "text/plain": [
       "Summarize dataset:   0%|          | 0/5 [00:00<?, ?it/s]"
      ]
     },
     "metadata": {},
     "output_type": "display_data"
    },
    {
     "name": "stderr",
     "output_type": "stream",
     "text": [
      "/home/pavanmv/miniconda3/envs/mlflow-70d6bcff27d093526c6b8a843914d30a175ff963/lib/python3.8/site-packages/multimethod/__init__.py:184: FutureWarning: iteritems is deprecated and will be removed in a future version. Use .items instead.\n",
      "  return self[tuple(map(self.get_type, args))](*args, **kwargs)\n",
      "/home/pavanmv/miniconda3/envs/mlflow-70d6bcff27d093526c6b8a843914d30a175ff963/lib/python3.8/site-packages/multimethod/__init__.py:184: FutureWarning: In a future version, `df.iloc[:, i] = newvals` will attempt to set the values inplace instead of always setting a new array. To retain the old behavior, use either `df[df.columns[i]] = newvals` or, if columns are non-unique, `df.isetitem(i, newvals)`\n",
      "  return self[tuple(map(self.get_type, args))](*args, **kwargs)\n",
      "/home/pavanmv/miniconda3/envs/mlflow-70d6bcff27d093526c6b8a843914d30a175ff963/lib/python3.8/site-packages/multimethod/__init__.py:184: FutureWarning: The default value of numeric_only in DataFrame.corr is deprecated. In a future version, it will default to False. Select only valid columns or specify the value of numeric_only to silence this warning.\n",
      "  return self[tuple(map(self.get_type, args))](*args, **kwargs)\n"
     ]
    },
    {
     "data": {
      "application/vnd.jupyter.widget-view+json": {
       "model_id": "622b46e02ae0415c977d10d74c90b91d",
       "version_major": 2,
       "version_minor": 0
      },
      "text/plain": [
       "Generate report structure:   0%|          | 0/1 [00:00<?, ?it/s]"
      ]
     },
     "metadata": {},
     "output_type": "display_data"
    },
    {
     "data": {
      "application/vnd.jupyter.widget-view+json": {
       "model_id": "",
       "version_major": 2,
       "version_minor": 0
      },
      "text/plain": [
       "Render widgets:   0%|          | 0/1 [00:00<?, ?it/s]"
      ]
     },
     "metadata": {},
     "output_type": "display_data"
    },
    {
     "data": {
      "application/vnd.jupyter.widget-view+json": {
       "model_id": "abd0034e62bd4699bfbe55296067b47a",
       "version_major": 2,
       "version_minor": 0
      },
      "text/plain": [
       "VBox(children=(Tab(children=(Tab(children=(GridBox(children=(VBox(children=(GridspecLayout(children=(HTML(valu…"
      ]
     },
     "metadata": {},
     "output_type": "display_data"
    }
   ],
   "source": [
    "profile.to_widgets()"
   ]
  },
  {
   "cell_type": "code",
   "execution_count": 10,
   "id": "a5fd380d",
   "metadata": {},
   "outputs": [],
   "source": [
    "df = df.drop_duplicates().reset_index(drop=True)"
   ]
  },
  {
   "cell_type": "code",
   "execution_count": 11,
   "id": "2ed4f8a7",
   "metadata": {},
   "outputs": [],
   "source": [
    "df['title'].fillna(value='', inplace=True)\n",
    "df['song_name'].fillna(value='', inplace=True)\n",
    "df['text_feature'] = df['title'] + ' ' + df['song_name']"
   ]
  },
  {
   "cell_type": "code",
   "execution_count": null,
   "id": "90e2e443",
   "metadata": {},
   "outputs": [],
   "source": []
  },
  {
   "cell_type": "code",
   "execution_count": null,
   "id": "5f7348cf",
   "metadata": {},
   "outputs": [],
   "source": []
  },
  {
   "cell_type": "code",
   "execution_count": null,
   "id": "b6cd287f",
   "metadata": {},
   "outputs": [],
   "source": []
  }
 ],
 "metadata": {
  "kernelspec": {
   "display_name": "Python 3 (ipykernel)",
   "language": "python",
   "name": "python3"
  },
  "language_info": {
   "codemirror_mode": {
    "name": "ipython",
    "version": 3
   },
   "file_extension": ".py",
   "mimetype": "text/x-python",
   "name": "python",
   "nbconvert_exporter": "python",
   "pygments_lexer": "ipython3",
   "version": "3.8.13"
  },
  "vscode": {
   "interpreter": {
    "hash": "5ddf60d0f83a0d725f9f596f16edfe1fda5181574f3d405a526565c53dcf0132"
   }
  }
 },
 "nbformat": 4,
 "nbformat_minor": 5
}
